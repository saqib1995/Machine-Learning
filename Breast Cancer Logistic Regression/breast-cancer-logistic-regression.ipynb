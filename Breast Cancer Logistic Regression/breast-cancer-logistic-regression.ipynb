{
 "cells": [
  {
   "cell_type": "markdown",
   "metadata": {},
   "source": [
    "# Logistic Regression \n",
    "\n",
    "Here we use gradient ascent to find the weights for the logistic regression problem.   \n",
    "\n",
    "We will use the breast cancer data set.  This data set is described here:\n",
    "\n",
    "https://archive.ics.uci.edu/ml/machine-learning-databases/breast-cancer-wisconsin\n",
    "\n",
    "Goal is to detect if the cells are benign or malignant."
   ]
  },
  {
   "cell_type": "markdown",
   "metadata": {},
   "source": [
    "## Step 1:  Getting, preprocessing, and understanding the dataset"
   ]
  },
  {
   "cell_type": "markdown",
   "metadata": {},
   "source": [
    "### Importing the standard libraries"
   ]
  },
  {
   "cell_type": "code",
   "execution_count": 1,
   "metadata": {},
   "outputs": [],
   "source": [
    "# Importing important libraries\n",
    "from sklearn.datasets import load_breast_cancer \n",
    "from sklearn import preprocessing \n",
    "from sklearn.model_selection import train_test_split \n",
    "import numpy as np\n",
    "import math\n",
    "\n",
    "import matplotlib.pyplot as plt\n",
    "%matplotlib inline"
   ]
  },
  {
   "cell_type": "markdown",
   "metadata": {},
   "source": [
    "### Importing the dataset"
   ]
  },
  {
   "cell_type": "code",
   "execution_count": 2,
   "metadata": {},
   "outputs": [],
   "source": [
    "# Loading the dataset\n",
    "cancer = load_breast_cancer()\n",
    "y = cancer.target\n",
    "X = cancer.data"
   ]
  },
  {
   "cell_type": "code",
   "execution_count": 3,
   "metadata": {},
   "outputs": [
    {
     "name": "stdout",
     "output_type": "stream",
     "text": [
      "(569, 30)\n",
      "(569,)\n"
     ]
    }
   ],
   "source": [
    "# Printing the shape of data (X) and target (Y) values \n",
    "print(X.shape)\n",
    "print(y.shape)"
   ]
  },
  {
   "cell_type": "markdown",
   "metadata": {},
   "source": [
    "### Data Pre-Processing\n",
    "#### Splitting the data into train and test\n"
   ]
  },
  {
   "cell_type": "code",
   "execution_count": 4,
   "metadata": {},
   "outputs": [],
   "source": [
    "X_train, X_test, y_train, y_test = train_test_split(X, y)"
   ]
  },
  {
   "cell_type": "markdown",
   "metadata": {},
   "source": [
    "#### Scaling the data since we will be using gradient ascent"
   ]
  },
  {
   "cell_type": "code",
   "execution_count": 5,
   "metadata": {},
   "outputs": [],
   "source": [
    "scaler = preprocessing.StandardScaler().fit(X_train)\n",
    "X_train = scaler.transform(X_train)\n",
    "X_test = scaler.transform(X_test)"
   ]
  },
  {
   "cell_type": "code",
   "execution_count": 6,
   "metadata": {},
   "outputs": [
    {
     "name": "stdout",
     "output_type": "stream",
     "text": [
      "(426, 30)\n",
      "(426,)\n"
     ]
    }
   ],
   "source": [
    "print(X_train.shape) \n",
    "print(y_train.shape) "
   ]
  },
  {
   "cell_type": "code",
   "execution_count": 7,
   "metadata": {},
   "outputs": [
    {
     "name": "stdout",
     "output_type": "stream",
     "text": [
      "The trainng data has dimensions:  (426, 31) . The testing data has dimensions:  (143, 31)\n",
      "[[ 1.         -0.90521714 -0.48626207 -0.8394074  -0.80557355 -0.50755718\n",
      "   0.1454228   0.06947634 -0.3316809  -1.15262223  0.53235287 -0.53353928\n",
      "   0.29973957 -0.04171621 -0.47872297  0.56268224  1.23419747  1.27327171\n",
      "   1.06146621 -0.63852784  0.51085423 -0.82316123  0.20978099 -0.52104187\n",
      "  -0.7200228   0.30403659  1.01126215  0.99687826  0.62213189 -0.56249928\n",
      "   0.63731296]\n",
      " [ 1.          1.36443141  1.67427407  1.47763826  1.29027841  1.73014412\n",
      "   1.40702225  1.28537276  2.39787855 -0.62358371  1.36133627  0.3718613\n",
      "   3.07008442  1.39283566  0.52461757  0.20252768  2.04008512 -0.35752741\n",
      "   1.19120405  1.23146207  2.71622789  0.81954799  1.1729439   0.99179884\n",
      "   0.70812111  0.30843319  0.2006107  -0.1238942   1.0526689  -0.92732426\n",
      "   0.45719967]]\n"
     ]
    }
   ],
   "source": [
    "# Appending a column of ones to x_train \n",
    "ones = np.ones(X_train.shape[0]).reshape((X_train.shape[0], 1))\n",
    "X_train = np.hstack((ones, X_train))\n",
    "\n",
    "ones = np.ones(X_test.shape[0]).reshape((X_test.shape[0], 1))\n",
    "X_test = np.hstack((ones, X_test))\n",
    "\n",
    "\n",
    "print(\"The trainng data has dimensions: \", X_train.shape, \". The testing data has dimensions: \",X_test.shape)\n",
    "print(X_train[0:2])"
   ]
  },
  {
   "cell_type": "markdown",
   "metadata": {},
   "source": [
    "### Understanding the dataset"
   ]
  },
  {
   "cell_type": "code",
   "execution_count": 8,
   "metadata": {},
   "outputs": [
    {
     "name": "stdout",
     "output_type": "stream",
     "text": [
      "['mean radius' 'mean texture' 'mean perimeter' 'mean area'\n",
      " 'mean smoothness' 'mean compactness' 'mean concavity'\n",
      " 'mean concave points' 'mean symmetry' 'mean fractal dimension'\n",
      " 'radius error' 'texture error' 'perimeter error' 'area error'\n",
      " 'smoothness error' 'compactness error' 'concavity error'\n",
      " 'concave points error' 'symmetry error' 'fractal dimension error'\n",
      " 'worst radius' 'worst texture' 'worst perimeter' 'worst area'\n",
      " 'worst smoothness' 'worst compactness' 'worst concavity'\n",
      " 'worst concave points' 'worst symmetry' 'worst fractal dimension']\n"
     ]
    }
   ],
   "source": [
    "print(cancer.feature_names)"
   ]
  },
  {
   "cell_type": "markdown",
   "metadata": {},
   "source": [
    "\n",
    "# Step 2: Fitting the model\n",
    "## Implementing Logistic Regression Using Gradient Ascent"
   ]
  },
  {
   "cell_type": "markdown",
   "metadata": {},
   "source": [
    "\n",
    " \n",
    "### Sigmoid($z$)\n",
    "The first function we write here is sigmoid($z$)\n",
    "\n",
    "sigmoid($z$) takes as input a column vector of real numbers, $z^T = [z_1, z_2, ..., z_{N'}]$, where $N'$ is the number of  examples\n",
    "\n",
    "It should produce as output a column vector $\\left[\\frac{1}{1+e^{-z_1}},\\frac{1}{1+e^{-z_2}},...,\\frac{1}{1+e^{-z_{N'}}}\\right]^T$"
   ]
  },
  {
   "cell_type": "code",
   "execution_count": 9,
   "metadata": {},
   "outputs": [],
   "source": [
    "def sigmoid(z):\n",
    "    sig = 1. / (1. + np.exp(-z))\n",
    "    return sig\n",
    "    "
   ]
  },
  {
   "cell_type": "code",
   "execution_count": 10,
   "metadata": {},
   "outputs": [
    {
     "name": "stdout",
     "output_type": "stream",
     "text": [
      "0.5\n"
     ]
    }
   ],
   "source": [
    "print(sigmoid(0))"
   ]
  },
  {
   "cell_type": "markdown",
   "metadata": {},
   "source": [
    "### Initializing ${\\bf w}$\n",
    "For testing the next functions, we create a coefficient vector, ${\\bf w}$.\n",
    "We will initialize the coeffients to be $0$, i.e. ${\\bf w}^T = [0,0,\\ldots ,0]$ (We could have initialized ${\\bf w}$ to any values.)"
   ]
  },
  {
   "cell_type": "code",
   "execution_count": 11,
   "metadata": {},
   "outputs": [
    {
     "name": "stdout",
     "output_type": "stream",
     "text": [
      "(31, 1)\n"
     ]
    }
   ],
   "source": [
    "w = np.zeros((X_train.shape[1], 1))\n",
    "print(w.shape)"
   ]
  },
  {
   "cell_type": "markdown",
   "metadata": {},
   "source": [
    "### Our hypothesis, $h({\\bf x})$\n",
    "The next  function to write is our hypothesis function. \n",
    "\n",
    "For example if our design matrix $X$ consists of single example $X=[1,x_1,x_2,\\ldots,x_d]$ and  weights ${\\bf w}^T=[w_0,w_2,\\ldots, w_d]$, it returns $h({\\bf x})=\\frac{1}{1+e^{-\\left({w_{0}\\cdot 1 +w_1\\cdot x_1+\\cdots w_d\\cdot x_d}\\right)}}$\n",
    "\n",
    "If given a  matrix consisting of $N'$ examples \n",
    "$X=\\left[\\begin{matrix}\n",
    "1& x^{(1)}_1& x^{(1)}_2 &\\ldots& x^{(1)}_d\\\\\n",
    "1& x^{(2)}_1& x^{(2)}_2 &\\ldots& x^{(2)}_d\\\\\n",
    "\\vdots & \\vdots &\\vdots & & \\vdots \\\\\n",
    "1& x^{(N')}_1& x^{(N')}_2 &\\ldots& x^{(N')}_d\\\\\n",
    "\\end{matrix}\\right]$\n",
    "and  weights ${\\bf w}^T=[w_0,w_2,\\ldots, w_d]$, the function returns a column vector\n",
    "$[h({\\bf x}^{(1)}),h({\\bf x}^{(2)},\\ldots, h({\\bf x}^{(N')}]^T$"
   ]
  },
  {
   "cell_type": "code",
   "execution_count": 12,
   "metadata": {},
   "outputs": [],
   "source": [
    "def get_prediction(X, w):\n",
    "    yp = np.dot(X, w);\n",
    "    return yp;"
   ]
  },
  {
   "cell_type": "code",
   "execution_count": 13,
   "metadata": {},
   "outputs": [],
   "source": [
    "def hypothesis(X , w):\n",
    "    yp = get_prediction(X, w)\n",
    "    hx = sigmoid(yp)    \n",
    "    return hx"
   ]
  },
  {
   "cell_type": "code",
   "execution_count": 14,
   "metadata": {},
   "outputs": [
    {
     "name": "stdout",
     "output_type": "stream",
     "text": [
      "(426, 1)\n",
      "(426,)\n"
     ]
    }
   ],
   "source": [
    "yhat = hypothesis(X_train, w)\n",
    "\n",
    "print(yhat.shape) \n",
    "print(y_train.shape) "
   ]
  },
  {
   "cell_type": "markdown",
   "metadata": {},
   "source": [
    "### Log-Likelihood Function.\n",
    "log likelihood function $\\ell({\\bf w})=\n",
    "\\sum_{i=1}^{N'}y^{(i)}\\ln(h({\\bf x}^{(i)})) +(1- y^{(i)})\\ln(1-h({\\bf x}^{(i)}))$\n",
    "\n",
    "The input is a matrix consisting of $N'$ examples $X=\\left[\\begin{matrix}\n",
    "1& x^{(1)}_1& x^{(1)}_2 &\\ldots& x^{(1)}_d\\\\\n",
    "1& x^{(2)}_1& x^{(2)}_2 &\\ldots& x^{(2)}_d\\\\\n",
    "\\vdots & \\vdots &\\vdots & & \\vdots \\\\\n",
    "1& x^{(N')}_1& x^{(N')}_2 &\\ldots& x^{(N')}_d\\\\\n",
    "\\end{matrix}\\right]$\n",
    "and a column vector ${\\bf y}^T=[y^{(1)},y^{(2)},\\dots,y^{(N')}]$ of labels for $X$.\n",
    "\n",
    "The output is $\\ell({\\bf w})$"
   ]
  },
  {
   "cell_type": "code",
   "execution_count": 16,
   "metadata": {},
   "outputs": [],
   "source": [
    "def log_likelihood(X , y , w ):\n",
    "    hx = hypothesis(X, w)\n",
    "    y = y.reshape(y.shape[0],1)\n",
    "    return np.sum(y * np.log(hx) + ((1-y) * np.log(1-hx)))"
   ]
  },
  {
   "cell_type": "code",
   "execution_count": 17,
   "metadata": {},
   "outputs": [
    {
     "data": {
      "text/plain": [
       "-295.2806989185367"
      ]
     },
     "execution_count": 17,
     "metadata": {},
     "output_type": "execute_result"
    }
   ],
   "source": [
    "log_likelihood(X_train,y_train,w)"
   ]
  },
  {
   "cell_type": "markdown",
   "metadata": {},
   "source": [
    "# Gradient Ascent\n"
   ]
  },
  {
   "cell_type": "code",
   "execution_count": 18,
   "metadata": {},
   "outputs": [],
   "source": [
    "def Logistic_Regresion_Gradient_Ascent(X, y, learning_rate, num_iters):\n",
    "    # Initializing log_likelihood to be an empty list  \n",
    "    log_likelihood_values = []\n",
    "    \n",
    "    w = np.zeros((X.shape[1], 1))\n",
    "    # Initialize N to the number of training examples\n",
    "    N = X.shape[0] \n",
    "    \n",
    "    y = y.reshape(y.shape[0],1)\n",
    "    num_coeff = len(w)\n",
    "    for j in range(1,num_iters+1):\n",
    "        for i in range(num_coeff):\n",
    "            hx = hypothesis(X, w)\n",
    "            diff = y-hx\n",
    "            x_curr = X[:,i]\n",
    "            x_curr = x_curr.reshape(x_curr.shape[0],1)\n",
    "            w[i][0] = w[i][0] + learning_rate/N * np.sum(diff * x_curr)\n",
    "        if (j % 100) == 0:\n",
    "            log_likelihood_values.append(log_likelihood(X,y,w))\n",
    "    return w, log_likelihood_values"
   ]
  },
  {
   "cell_type": "code",
   "execution_count": 20,
   "metadata": {
    "scrolled": true
   },
   "outputs": [
    {
     "name": "stdout",
     "output_type": "stream",
     "text": [
      "[[-0.93531846]\n",
      " [ 0.35616461]\n",
      " [-1.04442663]\n",
      " [ 0.3815917 ]\n",
      " [ 0.16721161]\n",
      " [-0.29625461]\n",
      " [ 2.77557699]\n",
      " [-2.13226081]\n",
      " [-2.16986363]\n",
      " [ 0.04850516]\n",
      " [ 0.49482736]\n",
      " [-3.53975374]\n",
      " [ 0.92205855]\n",
      " [-2.16574528]\n",
      " [-2.52420249]\n",
      " [ 0.65586384]\n",
      " [ 0.22023554]\n",
      " [ 1.19403452]\n",
      " [-0.55792483]\n",
      " [-0.3951598 ]\n",
      " [ 1.84940865]\n",
      " [-1.62372509]\n",
      " [-2.02402693]\n",
      " [-1.04441369]\n",
      " [-1.81253054]\n",
      " [-1.63930548]\n",
      " [ 0.6595154 ]\n",
      " [-2.63532284]\n",
      " [-1.37774365]\n",
      " [-1.35231401]\n",
      " [-0.57738127]]\n",
      "[-28.21616805871362, -24.565250399635335, -22.878839926603057, -21.86335863210162, -21.16133395507209, -20.62766396958536, -20.194798244108043, -19.82793981828478, -19.50745255291353, -19.221392573680024, -18.962038443986415, -18.72413794645314, -18.50395960498205, -18.298750690019045, -18.106413229763028, -17.92530276407006, -17.754099048488186, -17.591720407554927, -17.437265375138438, -17.28997185880066, -17.149187840695078, -17.014349852425447, -16.884966806591297, -16.760607599836494, -16.640891427440906, -16.525480087223116, -16.414071771473072, -16.306395992583816, -16.202209387362082, -16.101292213179715, -16.003445396686722, -15.9084880295085, -15.816255229618655, -15.726596304833787, -15.639373168074219, -15.554458963995561, -15.471736874227165, -15.391099074381508, -15.312445820664644, -15.23568464763405, -15.160729661643153, -15.087500916944393, -15.01592386341885, -14.945928856548104, -14.877450721616759, -14.810428365280256, -14.744804428598592, -14.680524976450904, -14.617539218937614, -14.555799260964697]\n"
     ]
    }
   ],
   "source": [
    "learning_rate = 0.5\n",
    "num_iters = 5000 # The number of iteratins to run the gradient ascent algorithm\n",
    "\n",
    "w, log_likelihood_values = Logistic_Regresion_Gradient_Ascent(X_train, y_train, learning_rate, num_iters)\n",
    "print(w)\n",
    "print(log_likelihood_values)"
   ]
  },
  {
   "cell_type": "markdown",
   "metadata": {},
   "source": [
    "# Plotting Likelihood v/s Number of Iterations."
   ]
  },
  {
   "cell_type": "code",
   "execution_count": 21,
   "metadata": {},
   "outputs": [
    {
     "data": {
      "image/png": "[encoded data removed]",
      "text/plain": [
       "<Figure size 432x288 with 1 Axes>"
      ]
     },
     "metadata": {
      "needs_background": "light"
     },
     "output_type": "display_data"
    }
   ],
   "source": [
    "iters = np.array(range(0,num_iters,100))\n",
    "plt.plot(iters,log_likelihood_values,'.-',color='green')\n",
    "plt.xlabel('Number of iterations')\n",
    "plt.ylabel('Likelihood')\n",
    "plt.title(\"Likelihood vs Number of Iterations.\")\n",
    "plt.grid()"
   ]
  },
  {
   "cell_type": "markdown",
   "metadata": {},
   "source": [
    "# Step 3: Evaluating our model"
   ]
  },
  {
   "cell_type": "code",
   "execution_count": 22,
   "metadata": {},
   "outputs": [
    {
     "name": "stdout",
     "output_type": "stream",
     "text": [
      "TP: 88, FP: 5, TN: 49, FN: 1\n",
      "precision:  0.946236559139785\n",
      "recall:  0.9887640449438202\n",
      "F1:  0.967032967032967\n"
     ]
    }
   ],
   "source": [
    "threshold = 0.5\n",
    "test_prediction = hypothesis(X_test, w)\n",
    "test_prediction[test_prediction > threshold] = 1\n",
    "test_prediction[test_prediction < threshold] = 0\n",
    "y_test = y_test.reshape(y_test.shape[0],1)\n",
    "\n",
    "TP = np.sum(np.logical_and(test_prediction == 1, y_test == 1))\n",
    "TN = np.sum(np.logical_and(test_prediction == 0, y_test == 0))\n",
    "FP = np.sum(np.logical_and(test_prediction == 1, y_test == 0))\n",
    "FN = np.sum(np.logical_and(test_prediction == 0, y_test == 1))\n",
    "print('TP: %i, FP: %i, TN: %i, FN: %i' % (TP,FP,TN,FN))\n",
    "precision = TP/(TP+FP)\n",
    "print(\"precision: \", precision)\n",
    "recall = TP/(TP+FN)\n",
    "print(\"recall: \", recall)\n",
    "f1 = (2*precision*recall)/(precision+recall)\n",
    "print(\"F1: \", f1)"
   ]
  },
  {
   "cell_type": "markdown",
   "metadata": {},
   "source": [
    "### Using Test set as a validation set"
   ]
  },
  {
   "cell_type": "code",
   "execution_count": 23,
   "metadata": {},
   "outputs": [],
   "source": [
    "def accuracy(prediction, actual, threshold):\n",
    "    actual = actual.reshape(actual.shape[0],1)\n",
    "    prediction[prediction > threshold] = 1\n",
    "    prediction[prediction < threshold] = 0\n",
    "    return np.sum(prediction == actual)/len(prediction)"
   ]
  },
  {
   "cell_type": "code",
   "execution_count": 24,
   "metadata": {},
   "outputs": [
    {
     "data": {
      "text/plain": [
       "0.958041958041958"
      ]
     },
     "execution_count": 24,
     "metadata": {},
     "output_type": "execute_result"
    }
   ],
   "source": [
    "accuracy(test_prediction, y_test, threshold)"
   ]
  },
  {
   "cell_type": "code",
   "execution_count": 25,
   "metadata": {},
   "outputs": [],
   "source": [
    "def Logistic_Regresion_Gradient_Ascent_With_Validation(X, y, Xt, yt, learning_rate, num_iters, pred_threshold):\n",
    "    \n",
    "    w = np.zeros((X.shape[1], 1))\n",
    "    N = X.shape[0] \n",
    "    y = y.reshape(y.shape[0],1)\n",
    "    num_coeff = len(w)\n",
    "    p_acc = 0\n",
    "    p_w = w\n",
    "    for j in range(1,num_iters+1):\n",
    "        acc = accuracy(hypothesis(Xt, w), yt, pred_threshold)\n",
    "        print(\"accuracy: \", acc)\n",
    "        if acc < p_acc:\n",
    "            print(\"acc stars decreasing at iteration: \", j)\n",
    "            break;\n",
    "        else:\n",
    "            p_acc = acc\n",
    "            p_w = w\n",
    "            for i in range(num_coeff):\n",
    "                hx = hypothesis(X, w)\n",
    "                diff = y-hx\n",
    "                x_curr = X[:,i]\n",
    "                x_curr = x_curr.reshape(x_curr.shape[0],1)\n",
    "                w[i][0] = w[i][0] + learning_rate/N * np.sum(diff * x_curr)\n",
    "    return p_w"
   ]
  },
  {
   "cell_type": "code",
   "execution_count": 26,
   "metadata": {},
   "outputs": [
    {
     "name": "stdout",
     "output_type": "stream",
     "text": [
      "accuracy:  0.0\n",
      "accuracy:  0.9230769230769231\n",
      "accuracy:  0.9230769230769231\n",
      "accuracy:  0.9440559440559441\n",
      "accuracy:  0.951048951048951\n",
      "accuracy:  0.951048951048951\n",
      "accuracy:  0.958041958041958\n",
      "accuracy:  0.958041958041958\n",
      "accuracy:  0.958041958041958\n",
      "accuracy:  0.958041958041958\n",
      "accuracy:  0.958041958041958\n",
      "accuracy:  0.958041958041958\n",
      "accuracy:  0.958041958041958\n",
      "accuracy:  0.958041958041958\n",
      "accuracy:  0.958041958041958\n",
      "accuracy:  0.958041958041958\n",
      "accuracy:  0.958041958041958\n",
      "accuracy:  0.965034965034965\n",
      "accuracy:  0.965034965034965\n",
      "accuracy:  0.965034965034965\n",
      "accuracy:  0.965034965034965\n",
      "accuracy:  0.965034965034965\n",
      "accuracy:  0.972027972027972\n",
      "accuracy:  0.972027972027972\n",
      "accuracy:  0.972027972027972\n",
      "accuracy:  0.972027972027972\n",
      "accuracy:  0.972027972027972\n",
      "accuracy:  0.972027972027972\n",
      "accuracy:  0.972027972027972\n",
      "accuracy:  0.972027972027972\n",
      "accuracy:  0.972027972027972\n",
      "accuracy:  0.972027972027972\n",
      "accuracy:  0.972027972027972\n",
      "accuracy:  0.972027972027972\n",
      "accuracy:  0.972027972027972\n",
      "accuracy:  0.9790209790209791\n",
      "accuracy:  0.9790209790209791\n",
      "accuracy:  0.9790209790209791\n",
      "accuracy:  0.9790209790209791\n",
      "accuracy:  0.9790209790209791\n",
      "accuracy:  0.9790209790209791\n",
      "accuracy:  0.9790209790209791\n",
      "accuracy:  0.9790209790209791\n",
      "accuracy:  0.9790209790209791\n",
      "accuracy:  0.9790209790209791\n",
      "accuracy:  0.9790209790209791\n",
      "accuracy:  0.9790209790209791\n",
      "accuracy:  0.9790209790209791\n",
      "accuracy:  0.9790209790209791\n",
      "accuracy:  0.9790209790209791\n",
      "accuracy:  0.9790209790209791\n",
      "accuracy:  0.9790209790209791\n",
      "accuracy:  0.9790209790209791\n",
      "accuracy:  0.9790209790209791\n",
      "accuracy:  0.9790209790209791\n",
      "accuracy:  0.9790209790209791\n",
      "accuracy:  0.9790209790209791\n",
      "accuracy:  0.9790209790209791\n",
      "accuracy:  0.9790209790209791\n",
      "accuracy:  0.9790209790209791\n",
      "accuracy:  0.9790209790209791\n",
      "accuracy:  0.9790209790209791\n",
      "accuracy:  0.9790209790209791\n",
      "accuracy:  0.9790209790209791\n",
      "accuracy:  0.9790209790209791\n",
      "accuracy:  0.9790209790209791\n",
      "accuracy:  0.9790209790209791\n",
      "accuracy:  0.9790209790209791\n",
      "accuracy:  0.9790209790209791\n",
      "accuracy:  0.9790209790209791\n",
      "accuracy:  0.9790209790209791\n",
      "accuracy:  0.9790209790209791\n",
      "accuracy:  0.9790209790209791\n",
      "accuracy:  0.9790209790209791\n",
      "accuracy:  0.9790209790209791\n",
      "accuracy:  0.9790209790209791\n",
      "accuracy:  0.9790209790209791\n",
      "accuracy:  0.9790209790209791\n",
      "accuracy:  0.9790209790209791\n",
      "accuracy:  0.9790209790209791\n",
      "accuracy:  0.9790209790209791\n",
      "accuracy:  0.972027972027972\n",
      "acc stars decreasing at iteration:  82\n"
     ]
    }
   ],
   "source": [
    "alpha = 0.5\n",
    "new_i = 10000\n",
    "wt = Logistic_Regresion_Gradient_Ascent_With_Validation(X_train,\\\n",
    "                                                         y_train,\\\n",
    "                                                         X_test,\\\n",
    "                                                         y_test,\\\n",
    "                                                         alpha,\\\n",
    "                                                         new_i,\\\n",
    "                                                         threshold)"
   ]
  },
  {
   "cell_type": "code",
   "execution_count": 27,
   "metadata": {
    "scrolled": false
   },
   "outputs": [
    {
     "name": "stdout",
     "output_type": "stream",
     "text": [
      "accuracy with cross validation:  0.9859154929577465\n"
     ]
    }
   ],
   "source": [
    "acc = accuracy(hypothesis(X_train, wt), y_train, threshold)\n",
    "print(\"accuracy with cross validation: \", acc)"
   ]
  }
 ],
 "metadata": {
  "kernelspec": {
   "display_name": "Python 3",
   "language": "python",
   "name": "python3"
  },
  "language_info": {
   "codemirror_mode": {
    "name": "ipython",
    "version": 3
   },
   "file_extension": ".py",
   "mimetype": "text/x-python",
   "name": "python",
   "nbconvert_exporter": "python",
   "pygments_lexer": "ipython3",
   "version": "3.7.3"
  }
 },
 "nbformat": 4,
 "nbformat_minor": 2
}
